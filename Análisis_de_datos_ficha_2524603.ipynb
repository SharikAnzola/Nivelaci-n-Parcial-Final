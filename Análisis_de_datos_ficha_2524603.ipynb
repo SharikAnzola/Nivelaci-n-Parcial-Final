{
  "nbformat": 4,
  "nbformat_minor": 0,
  "metadata": {
    "colab": {
      "provenance": [],
      "authorship_tag": "ABX9TyOQqtKy58sW3wbWcVrtsi7Z",
      "include_colab_link": true
    },
    "kernelspec": {
      "name": "python3",
      "display_name": "Python 3"
    },
    "language_info": {
      "name": "python"
    }
  },
  "cells": [
    {
      "cell_type": "markdown",
      "metadata": {
        "id": "view-in-github",
        "colab_type": "text"
      },
      "source": [
        "<a href=\"https://colab.research.google.com/github/SharikAnzola/Nivelaci-n-Parcial-Final/blob/main/An%C3%A1lisis_de_datos_ficha_2524603.ipynb\" target=\"_parent\"><img src=\"https://colab.research.google.com/assets/colab-badge.svg\" alt=\"Open In Colab\"/></a>"
      ]
    },
    {
      "cell_type": "code",
      "execution_count": null,
      "metadata": {
        "id": "ao08khneqmFR",
        "colab": {
          "base_uri": "https://localhost:8080/"
        },
        "outputId": "6505142b-4b5a-43f8-f2ab-4f48efdd8711"
      },
      "outputs": [
        {
          "output_type": "stream",
          "name": "stdout",
          "text": [
            "hola mundo lindo\n"
          ]
        }
      ],
      "source": [
        "print(\"hola mundo lindo\")"
      ]
    },
    {
      "cell_type": "markdown",
      "source": [
        "TALLLER\n"
      ],
      "metadata": {
        "id": "MzCDxoJZP5xn"
      }
    },
    {
      "cell_type": "code",
      "source": [],
      "metadata": {
        "id": "Nxn6th8bUuIT"
      },
      "execution_count": null,
      "outputs": []
    },
    {
      "cell_type": "code",
      "source": [],
      "metadata": {
        "id": "06gH_KKEP7vt"
      },
      "execution_count": null,
      "outputs": []
    },
    {
      "cell_type": "markdown",
      "source": [
        "rqmon 25/10/2023"
      ],
      "metadata": {
        "id": "jxmdnJib7Y7y"
      }
    },
    {
      "cell_type": "code",
      "source": [
        "\n",
        "\n",
        "\n",
        "\n",
        "\n"
      ],
      "metadata": {
        "colab": {
          "base_uri": "https://localhost:8080/",
          "height": 145
        },
        "id": "HA1o255W7c0N",
        "outputId": "91dc47e8-3fd3-4f13-a8cd-4ddac61e7bf4"
      },
      "execution_count": null,
      "outputs": [
        {
          "output_type": "error",
          "ename": "IndentationError",
          "evalue": "ignored",
          "traceback": [
            "\u001b[0;36m  File \u001b[0;32m\"<ipython-input-4-2db718898293>\"\u001b[0;36m, line \u001b[0;32m26\u001b[0m\n\u001b[0;31m    encuestas_por_zon = df.loc[(df['ZONA'].str.contains('MADRID')) ,['ENCUESTA']]\u001b[0m\n\u001b[0m    ^\u001b[0m\n\u001b[0;31mIndentationError\u001b[0m\u001b[0;31m:\u001b[0m unexpected indent\n"
          ]
        }
      ]
    },
    {
      "cell_type": "code",
      "source": [],
      "metadata": {
        "id": "q0FNF8oC90DB"
      },
      "execution_count": null,
      "outputs": []
    },
    {
      "cell_type": "markdown",
      "source": [
        "1/11/2023"
      ],
      "metadata": {
        "id": "WFAqQqUf90mQ"
      }
    },
    {
      "cell_type": "code",
      "source": [
        "import pandas as pd\n",
        "\n",
        "# Crear un DataFrame con los datos de la tabla\n",
        "data = {\n",
        "    'ENCUESTA': [15, 42, 17, 34, 12, 18, 30, 50],\n",
        "    'EDAD': [18, 22, 14, 41, 22, 15, 30, 12],\n",
        "    'SEXO': ['M', 'M', 'F', 'M', 'M', 'M', 'M', 'F'],\n",
        "    'ESTRATO': [2, 5, 3, 3, 3, 3, 2, 1],\n",
        "    'ESTADO CIVIL': ['S', 'C', 'S', 'V', 'S', 'S', 'C', 'S'],\n",
        "    'ZONA': ['FACATATIVA','FUNZA','MOSQUERA','MADRID','FACATATIVA','FACATATIVA','MADRID','FACATATIVA'],\n",
        "    'CONSUMO_POR_SEMANA': [12, 14, 8, 9, 10, 9, 2, 1],\n",
        "    'PRECIO_MAXIMO': [1041, 1325, 1499, 1034, 1022, 1025, 1111, 1099],\n",
        "    'SABOR_PREFERIDO': ['CURUBA', 'NARANJA', 'NARANJA', 'MANDARINA', 'MANDARINA', 'NARANJA', 'NARANJA', 'MANDARINA'],\n",
        "    'DESCRIPCION_SABOR': ['BUENO', 'MALO', 'REGULAR', 'EXCELENTE', 'REGULAR', 'REGULAR', 'BUENO', 'BUENO']\n",
        "}\n",
        "\n",
        "df = pd.DataFrame(data)\n",
        "\n",
        "# Mostrar el DataFrame completo\n",
        "print(df)\n",
        "\n",
        "print(\"Punto Numero 1\")\n",
        "\n",
        "\n",
        "# Agrupar los datos por la columna 'ZONA' y contar las encuestas en cada grupo\n",
        "  encuestas_por_zona = df.loc[(df['ZONA'].str.contains('MADRID')) ,['ENCUESTA']]\n",
        "  print(\"Las encuestas realizadas a M fueron\", s.sum())\n",
        "\n",
        "# Mostrar el resultado\n",
        "print(\"La encuesta por zona es :\" ,encuestas_por_zona)\n",
        "\n",
        "print(\"Punto Numero 2\")\n",
        "\n",
        "# Agrupar los datos por la columna 'ESTADO CIVIL' y contar las encuestas en cada grupo\n",
        "encuestas_por_estado_civil = df.groupby('ESTADO CIVIL')['ENCUESTA'].count()\n",
        "\n",
        "# Mostrar el resultado\n",
        "print(\"la encuesta por estado vicil es: \"encuestas_por_estado_civil)\n",
        "\n",
        "\n",
        "print(\"Punto Numero 3\")\n",
        "# Agrupar los datos por las columnas 'SEXO' y 'ZONA' y contar las encuestas en cada grupo\n",
        "encuestas_por_sexo_zona = df.groupby(['SEXO', 'ZONA'])['ENCUESTA'].count()\n",
        "\n",
        "# Mostrar el resultado\n",
        "print(encuestas_por_sexo_zona)\n",
        "\n",
        "print(\"Punto Numero 4\")\n",
        "\n",
        "# Agrupar los datos por las columnas 'SEXO' y 'ESTADO CIVIL' y calcular el promedio de edades en cada grupo\n",
        "edad_promedio_por_sexo_estado_civil = df.groupby(['SEXO', 'ESTADO CIVIL'])['EDAD'].mean()\n",
        "\n",
        "# Mostrar el resultado\n",
        "print(edad_promedio_por_sexo_estado_civil)\n",
        "\n",
        "print(\"Punto Numero 5\")\n",
        "\n",
        "# Agrupar los datos por las columnas 'SEXO' y 'SABOR_PREFERIDO' y contar el número de personas en cada grupo\n",
        "personas_por_sexo_sabor = df.groupby(['SEXO', 'SABOR_PREFERIDO'])['ENCUESTA'].count()\n",
        "\n",
        "# Mostrar el resultado\n",
        "print(personas_por_sexo_sabor)\n",
        "\n",
        "print(\"Punto Numero 6\")\n",
        "\n",
        "# Agrupar los datos por las columnas 'DESCRIPCION_SABOR' y 'ESTADO CIVIL' y calcular el precio máximo en cada grupo\n",
        "precio_maximo_por_sabor_estado_civil = df.groupby(['DESCRIPCION_SABOR', 'ESTADO CIVIL'])['PRECIO_MAXIMO'].max()\n",
        "\n",
        "# Mostrar el resultado\n",
        "print(precio_maximo_por_sabor_estado_civil)\n",
        "\n",
        "print(\"Punto Numero 7\")\n",
        "\n",
        "# Agrupar los datos por las columnas 'ZONA', 'SABOR_PREFERIDO' y 'DESCRIPCION_SABOR' y calcular el precio máximo en cada grupo\n",
        "precio_maximo_por_zona_sabor = df.groupby(['ZONA', 'SABOR_PREFERIDO', 'DESCRIPCION_SABOR'])['PRECIO_MAXIMO'].max()\n",
        "\n",
        "# Mostrar el resultado\n",
        "print(precio_maximo_por_zona_sabor)\n",
        "\n",
        "print(\"Punto Numero 8\")\n",
        "\n",
        "\n",
        "# Agrupar los datos por la columna 'DESCRIPCION_SABOR' y calcular el consumo promedio por semana en cada grupo\n",
        "consumo_promedio_por_sabor = df.groupby('DESCRIPCION_SABOR')['CONSUMO_POR_SEMANA'].mean()\n",
        "\n",
        "# Mostrar el resultado\n",
        "print(consumo_promedio_por_sabor)\n",
        "\n",
        "print(\"Punto Numero 9\")\n",
        "\n",
        "# Agrupar los datos por las columnas 'SABOR_PREFERIDO', 'ESTRATO' y 'ZONA' y calcular la edad máxima en cada grupo\n",
        "edad_maxima_por_sabor_estrato_zona = df.groupby(['SABOR_PREFERIDO', 'ESTRATO', 'ZONA'])['EDAD'].max()\n",
        "\n",
        "# Mostrar el resultado\n",
        "print(edad_maxima_por_sabor_estrato_zona)\n",
        "\n",
        "print(\"Punto Numero 10\")\n",
        "\n",
        "# Agrupar los datos por las columnas 'ZONA', 'ESTRATO' y 'DESCRIPCION_SABOR' y contar el número de personas en cada grupo\n",
        "personas_por_zona_estrato_sabor = df.groupby(['ZONA', 'ESTRATO', 'DESCRIPCION_SABOR'])['ENCUESTA'].count()\n",
        "\n",
        "# Mostrar el resultado\n",
        "print(personas_por_zona_estrato_sabor)\n",
        "\n",
        "\n",
        "\n",
        "\n",
        "\n"
      ],
      "metadata": {
        "id": "AOdBNEeK93Zo"
      },
      "execution_count": null,
      "outputs": []
    },
    {
      "cell_type": "markdown",
      "source": [
        "#ramon 18/10/2023\n",
        "\n",
        "\n"
      ],
      "metadata": {
        "id": "a49cyJHZRH5Z"
      }
    },
    {
      "cell_type": "code",
      "source": [
        "''''''''''''''''''''''''''''''''''''''''''''''''''''''''''''''''''''''''''''''''''''''''''''''''''''''''''''''''''''''''''''''''''''''''''''''''''''''' import pandas as pd\n",
        "import matplotlib.pyplot as plt\n",
        "\n",
        "# cargamos los registros en el diccionario de datos para el data frame\n",
        "\n",
        "aprendices ={'Nombre':[\"Andres\",\"Felipe\",\"Sharik\",\"Ian\",\"Camilo\"],\n",
        "             'Apellido':[\"Lago\",\"Enciso\",\"Barrios\",\"ardilla\",\"anzola\"],\n",
        "             'Sexo':[\"M\",\"M\",\"F\",\"M\",\"M\"],\n",
        "             'Edad':[20,20,19,2,24]\n",
        "             }\n",
        "\n",
        "\n",
        "\n",
        "\n",
        "# Solicitar al usuario que ingrese datos para cada aprendiz\n",
        "for i in range(5):  # Solicitaremos datos para 5 aprendices\n",
        "    nombre = input(\"Ingrese el nombre del aprendiz {}:\".format(i + 1))\n",
        "    apellido = input(\"Ingrese el apellido del aprendiz {}:\".format(i + 1))\n",
        "    sexo = input(\"Ingrese el sexo del aprendiz {} (M/F):\".format(i + 1))\n",
        "    edad = int(input(\"Ingrese la edad del aprendiz {}:\".format(i + 1))\n",
        "\n",
        "    # Agregar los datos ingresados al diccionario\n",
        "    aprendices['Nombre'].append(nombre)\n",
        "    aprendices['Apellido'].append(apellido)\n",
        "    aprendices['Sexo'].append(sexo)\n",
        "    aprendices['Edad'].append(edad)\n",
        "\n",
        "# Crear un DataFrame a partir del diccionario\n",
        "df = pd.DataFrame(aprendices)\n",
        "\n",
        "# Imprimir el DataFrame con los datos ingresados\n",
        "print(df)\n",
        "\n",
        "\n"
      ],
      "metadata": {
        "colab": {
          "base_uri": "https://localhost:8080/",
          "height": 571
        },
        "id": "o4uwFaoJUYIh",
        "outputId": "50a2598c-7ffa-46c2-fcbf-6d47e500ff55"
      },
      "execution_count": null,
      "outputs": [
        {
          "output_type": "error",
          "ename": "TypeError",
          "evalue": "ignored",
          "traceback": [
            "\u001b[0;31m---------------------------------------------------------------------------\u001b[0m",
            "\u001b[0;31mTypeError\u001b[0m                                 Traceback (most recent call last)",
            "\u001b[0;32m/usr/local/lib/python3.10/dist-packages/pandas/core/ops/array_ops.py\u001b[0m in \u001b[0;36mna_logical_op\u001b[0;34m(x, y, op)\u001b[0m\n\u001b[1;32m    304\u001b[0m         \u001b[0;31m#  (xint or xbool) and (yint or bool)\u001b[0m\u001b[0;34m\u001b[0m\u001b[0;34m\u001b[0m\u001b[0m\n\u001b[0;32m--> 305\u001b[0;31m         \u001b[0mresult\u001b[0m \u001b[0;34m=\u001b[0m \u001b[0mop\u001b[0m\u001b[0;34m(\u001b[0m\u001b[0mx\u001b[0m\u001b[0;34m,\u001b[0m \u001b[0my\u001b[0m\u001b[0;34m)\u001b[0m\u001b[0;34m\u001b[0m\u001b[0;34m\u001b[0m\u001b[0m\n\u001b[0m\u001b[1;32m    306\u001b[0m     \u001b[0;32mexcept\u001b[0m \u001b[0mTypeError\u001b[0m\u001b[0;34m:\u001b[0m\u001b[0;34m\u001b[0m\u001b[0;34m\u001b[0m\u001b[0m\n",
            "\u001b[0;32m/usr/local/lib/python3.10/dist-packages/pandas/core/roperator.py\u001b[0m in \u001b[0;36mrand_\u001b[0;34m(left, right)\u001b[0m\n\u001b[1;32m     53\u001b[0m \u001b[0;32mdef\u001b[0m \u001b[0mrand_\u001b[0m\u001b[0;34m(\u001b[0m\u001b[0mleft\u001b[0m\u001b[0;34m,\u001b[0m \u001b[0mright\u001b[0m\u001b[0;34m)\u001b[0m\u001b[0;34m:\u001b[0m\u001b[0;34m\u001b[0m\u001b[0;34m\u001b[0m\u001b[0m\n\u001b[0;32m---> 54\u001b[0;31m     \u001b[0;32mreturn\u001b[0m \u001b[0moperator\u001b[0m\u001b[0;34m.\u001b[0m\u001b[0mand_\u001b[0m\u001b[0;34m(\u001b[0m\u001b[0mright\u001b[0m\u001b[0;34m,\u001b[0m \u001b[0mleft\u001b[0m\u001b[0;34m)\u001b[0m\u001b[0;34m\u001b[0m\u001b[0;34m\u001b[0m\u001b[0m\n\u001b[0m\u001b[1;32m     55\u001b[0m \u001b[0;34m\u001b[0m\u001b[0m\n",
            "\u001b[0;31mTypeError\u001b[0m: ufunc 'bitwise_and' not supported for the input types, and the inputs could not be safely coerced to any supported types according to the casting rule ''safe''",
            "\nDuring handling of the above exception, another exception occurred:\n",
            "\u001b[0;31mValueError\u001b[0m                                Traceback (most recent call last)",
            "\u001b[0;32m/usr/local/lib/python3.10/dist-packages/pandas/core/ops/array_ops.py\u001b[0m in \u001b[0;36mna_logical_op\u001b[0;34m(x, y, op)\u001b[0m\n\u001b[1;32m    318\u001b[0m             \u001b[0;32mtry\u001b[0m\u001b[0;34m:\u001b[0m\u001b[0;34m\u001b[0m\u001b[0;34m\u001b[0m\u001b[0m\n\u001b[0;32m--> 319\u001b[0;31m                 \u001b[0mresult\u001b[0m \u001b[0;34m=\u001b[0m \u001b[0mlibops\u001b[0m\u001b[0;34m.\u001b[0m\u001b[0mscalar_binop\u001b[0m\u001b[0;34m(\u001b[0m\u001b[0mx\u001b[0m\u001b[0;34m,\u001b[0m \u001b[0my\u001b[0m\u001b[0;34m,\u001b[0m \u001b[0mop\u001b[0m\u001b[0;34m)\u001b[0m\u001b[0;34m\u001b[0m\u001b[0;34m\u001b[0m\u001b[0m\n\u001b[0m\u001b[1;32m    320\u001b[0m             except (\n",
            "\u001b[0;32m/usr/local/lib/python3.10/dist-packages/pandas/_libs/ops.pyx\u001b[0m in \u001b[0;36mpandas._libs.ops.scalar_binop\u001b[0;34m()\u001b[0m\n",
            "\u001b[0;31mValueError\u001b[0m: Buffer dtype mismatch, expected 'Python object' but got 'long'",
            "\nThe above exception was the direct cause of the following exception:\n",
            "\u001b[0;31mTypeError\u001b[0m                                 Traceback (most recent call last)",
            "\u001b[0;32m<ipython-input-75-504320203f64>\u001b[0m in \u001b[0;36m<cell line: 20>\u001b[0;34m()\u001b[0m\n\u001b[1;32m     18\u001b[0m \u001b[0;34m\u001b[0m\u001b[0m\n\u001b[1;32m     19\u001b[0m \u001b[0;31m# Filtrar los registros de aprendices masculinos mayores de edad\u001b[0m\u001b[0;34m\u001b[0m\u001b[0;34m\u001b[0m\u001b[0m\n\u001b[0;32m---> 20\u001b[0;31m \u001b[0mmayores_de_edad_masculinos\u001b[0m \u001b[0;34m=\u001b[0m \u001b[0mdf\u001b[0m\u001b[0;34m[\u001b[0m\u001b[0;34m'Sexo'\u001b[0m\u001b[0;34m]\u001b[0m \u001b[0;34m==\u001b[0m \u001b[0;34m'M'\u001b[0m \u001b[0;34m&\u001b[0m \u001b[0mdf\u001b[0m\u001b[0;34m[\u001b[0m\u001b[0;34m'Edad'\u001b[0m\u001b[0;34m]\u001b[0m \u001b[0;34m>=\u001b[0m \u001b[0;36m18\u001b[0m\u001b[0;34m\u001b[0m\u001b[0;34m\u001b[0m\u001b[0m\n\u001b[0m\u001b[1;32m     21\u001b[0m \u001b[0mprint\u001b[0m\u001b[0;34m(\u001b[0m\u001b[0;34m\"Aprendices masculinos mayores de edad:\"\u001b[0m\u001b[0;34m)\u001b[0m\u001b[0;34m\u001b[0m\u001b[0;34m\u001b[0m\u001b[0m\n\u001b[1;32m     22\u001b[0m \u001b[0mprint\u001b[0m\u001b[0;34m(\u001b[0m\u001b[0mmayores_de_edad_masculinos\u001b[0m\u001b[0;34m)\u001b[0m\u001b[0;34m\u001b[0m\u001b[0;34m\u001b[0m\u001b[0m\n",
            "\u001b[0;32m/usr/local/lib/python3.10/dist-packages/pandas/core/ops/common.py\u001b[0m in \u001b[0;36mnew_method\u001b[0;34m(self, other)\u001b[0m\n\u001b[1;32m     70\u001b[0m         \u001b[0mother\u001b[0m \u001b[0;34m=\u001b[0m \u001b[0mitem_from_zerodim\u001b[0m\u001b[0;34m(\u001b[0m\u001b[0mother\u001b[0m\u001b[0;34m)\u001b[0m\u001b[0;34m\u001b[0m\u001b[0;34m\u001b[0m\u001b[0m\n\u001b[1;32m     71\u001b[0m \u001b[0;34m\u001b[0m\u001b[0m\n\u001b[0;32m---> 72\u001b[0;31m         \u001b[0;32mreturn\u001b[0m \u001b[0mmethod\u001b[0m\u001b[0;34m(\u001b[0m\u001b[0mself\u001b[0m\u001b[0;34m,\u001b[0m \u001b[0mother\u001b[0m\u001b[0;34m)\u001b[0m\u001b[0;34m\u001b[0m\u001b[0;34m\u001b[0m\u001b[0m\n\u001b[0m\u001b[1;32m     73\u001b[0m \u001b[0;34m\u001b[0m\u001b[0m\n\u001b[1;32m     74\u001b[0m     \u001b[0;32mreturn\u001b[0m \u001b[0mnew_method\u001b[0m\u001b[0;34m\u001b[0m\u001b[0;34m\u001b[0m\u001b[0m\n",
            "\u001b[0;32m/usr/local/lib/python3.10/dist-packages/pandas/core/arraylike.py\u001b[0m in \u001b[0;36m__rand__\u001b[0;34m(self, other)\u001b[0m\n\u001b[1;32m     74\u001b[0m     \u001b[0;34m@\u001b[0m\u001b[0munpack_zerodim_and_defer\u001b[0m\u001b[0;34m(\u001b[0m\u001b[0;34m\"__rand__\"\u001b[0m\u001b[0;34m)\u001b[0m\u001b[0;34m\u001b[0m\u001b[0;34m\u001b[0m\u001b[0m\n\u001b[1;32m     75\u001b[0m     \u001b[0;32mdef\u001b[0m \u001b[0m__rand__\u001b[0m\u001b[0;34m(\u001b[0m\u001b[0mself\u001b[0m\u001b[0;34m,\u001b[0m \u001b[0mother\u001b[0m\u001b[0;34m)\u001b[0m\u001b[0;34m:\u001b[0m\u001b[0;34m\u001b[0m\u001b[0;34m\u001b[0m\u001b[0m\n\u001b[0;32m---> 76\u001b[0;31m         \u001b[0;32mreturn\u001b[0m \u001b[0mself\u001b[0m\u001b[0;34m.\u001b[0m\u001b[0m_logical_method\u001b[0m\u001b[0;34m(\u001b[0m\u001b[0mother\u001b[0m\u001b[0;34m,\u001b[0m \u001b[0mroperator\u001b[0m\u001b[0;34m.\u001b[0m\u001b[0mrand_\u001b[0m\u001b[0;34m)\u001b[0m\u001b[0;34m\u001b[0m\u001b[0;34m\u001b[0m\u001b[0m\n\u001b[0m\u001b[1;32m     77\u001b[0m \u001b[0;34m\u001b[0m\u001b[0m\n\u001b[1;32m     78\u001b[0m     \u001b[0;34m@\u001b[0m\u001b[0munpack_zerodim_and_defer\u001b[0m\u001b[0;34m(\u001b[0m\u001b[0;34m\"__or__\"\u001b[0m\u001b[0;34m)\u001b[0m\u001b[0;34m\u001b[0m\u001b[0;34m\u001b[0m\u001b[0m\n",
            "\u001b[0;32m/usr/local/lib/python3.10/dist-packages/pandas/core/series.py\u001b[0m in \u001b[0;36m_logical_method\u001b[0;34m(self, other, op)\u001b[0m\n\u001b[1;32m   6252\u001b[0m         \u001b[0mrvalues\u001b[0m \u001b[0;34m=\u001b[0m \u001b[0mextract_array\u001b[0m\u001b[0;34m(\u001b[0m\u001b[0mother\u001b[0m\u001b[0;34m,\u001b[0m \u001b[0mextract_numpy\u001b[0m\u001b[0;34m=\u001b[0m\u001b[0;32mTrue\u001b[0m\u001b[0;34m,\u001b[0m \u001b[0mextract_range\u001b[0m\u001b[0;34m=\u001b[0m\u001b[0;32mTrue\u001b[0m\u001b[0;34m)\u001b[0m\u001b[0;34m\u001b[0m\u001b[0;34m\u001b[0m\u001b[0m\n\u001b[1;32m   6253\u001b[0m \u001b[0;34m\u001b[0m\u001b[0m\n\u001b[0;32m-> 6254\u001b[0;31m         \u001b[0mres_values\u001b[0m \u001b[0;34m=\u001b[0m \u001b[0mops\u001b[0m\u001b[0;34m.\u001b[0m\u001b[0mlogical_op\u001b[0m\u001b[0;34m(\u001b[0m\u001b[0mlvalues\u001b[0m\u001b[0;34m,\u001b[0m \u001b[0mrvalues\u001b[0m\u001b[0;34m,\u001b[0m \u001b[0mop\u001b[0m\u001b[0;34m)\u001b[0m\u001b[0;34m\u001b[0m\u001b[0;34m\u001b[0m\u001b[0m\n\u001b[0m\u001b[1;32m   6255\u001b[0m         \u001b[0;32mreturn\u001b[0m \u001b[0mself\u001b[0m\u001b[0;34m.\u001b[0m\u001b[0m_construct_result\u001b[0m\u001b[0;34m(\u001b[0m\u001b[0mres_values\u001b[0m\u001b[0;34m,\u001b[0m \u001b[0mname\u001b[0m\u001b[0;34m=\u001b[0m\u001b[0mres_name\u001b[0m\u001b[0;34m)\u001b[0m\u001b[0;34m\u001b[0m\u001b[0;34m\u001b[0m\u001b[0m\n\u001b[1;32m   6256\u001b[0m \u001b[0;34m\u001b[0m\u001b[0m\n",
            "\u001b[0;32m/usr/local/lib/python3.10/dist-packages/pandas/core/ops/array_ops.py\u001b[0m in \u001b[0;36mlogical_op\u001b[0;34m(left, right, op)\u001b[0m\n\u001b[1;32m    393\u001b[0m         \u001b[0mfiller\u001b[0m \u001b[0;34m=\u001b[0m \u001b[0mfill_int\u001b[0m \u001b[0;32mif\u001b[0m \u001b[0mis_self_int_dtype\u001b[0m \u001b[0;32mand\u001b[0m \u001b[0mis_other_int_dtype\u001b[0m \u001b[0;32melse\u001b[0m \u001b[0mfill_bool\u001b[0m\u001b[0;34m\u001b[0m\u001b[0;34m\u001b[0m\u001b[0m\n\u001b[1;32m    394\u001b[0m \u001b[0;34m\u001b[0m\u001b[0m\n\u001b[0;32m--> 395\u001b[0;31m         \u001b[0mres_values\u001b[0m \u001b[0;34m=\u001b[0m \u001b[0mna_logical_op\u001b[0m\u001b[0;34m(\u001b[0m\u001b[0mlvalues\u001b[0m\u001b[0;34m,\u001b[0m \u001b[0mrvalues\u001b[0m\u001b[0;34m,\u001b[0m \u001b[0mop\u001b[0m\u001b[0;34m)\u001b[0m\u001b[0;34m\u001b[0m\u001b[0;34m\u001b[0m\u001b[0m\n\u001b[0m\u001b[1;32m    396\u001b[0m         \u001b[0;31m# error: Cannot call function of unknown type\u001b[0m\u001b[0;34m\u001b[0m\u001b[0;34m\u001b[0m\u001b[0m\n\u001b[1;32m    397\u001b[0m         \u001b[0mres_values\u001b[0m \u001b[0;34m=\u001b[0m \u001b[0mfiller\u001b[0m\u001b[0;34m(\u001b[0m\u001b[0mres_values\u001b[0m\u001b[0;34m)\u001b[0m  \u001b[0;31m# type: ignore[operator]\u001b[0m\u001b[0;34m\u001b[0m\u001b[0;34m\u001b[0m\u001b[0m\n",
            "\u001b[0;32m/usr/local/lib/python3.10/dist-packages/pandas/core/ops/array_ops.py\u001b[0m in \u001b[0;36mna_logical_op\u001b[0;34m(x, y, op)\u001b[0m\n\u001b[1;32m    326\u001b[0m             ) as err:\n\u001b[1;32m    327\u001b[0m                 \u001b[0mtyp\u001b[0m \u001b[0;34m=\u001b[0m \u001b[0mtype\u001b[0m\u001b[0;34m(\u001b[0m\u001b[0my\u001b[0m\u001b[0;34m)\u001b[0m\u001b[0;34m.\u001b[0m\u001b[0m__name__\u001b[0m\u001b[0;34m\u001b[0m\u001b[0;34m\u001b[0m\u001b[0m\n\u001b[0;32m--> 328\u001b[0;31m                 raise TypeError(\n\u001b[0m\u001b[1;32m    329\u001b[0m                     \u001b[0;34mf\"Cannot perform '{op.__name__}' with a dtyped [{x.dtype}] array \"\u001b[0m\u001b[0;34m\u001b[0m\u001b[0;34m\u001b[0m\u001b[0m\n\u001b[1;32m    330\u001b[0m                     \u001b[0;34mf\"and scalar of type [{typ}]\"\u001b[0m\u001b[0;34m\u001b[0m\u001b[0;34m\u001b[0m\u001b[0m\n",
            "\u001b[0;31mTypeError\u001b[0m: Cannot perform 'rand_' with a dtyped [int64] array and scalar of type [bool]"
          ]
        }
      ]
    },
    {
      "cell_type": "code",
      "source": [
        "\n",
        "# Aprendiz de mayor edad\n",
        "aprendiz_mayor_edad = df[df['Edad'] == df['Edad'].max()]\n",
        "print(\"Aprendiz de mayor edad:\")\n",
        "print(aprendiz_mayor_edad)\n",
        "\n",
        "# Promedio de edades\n",
        "promedio_edades = df['Edad'].mean()\n",
        "print(\"El promedio de edades es:\", promedio_edades)\n",
        "\n",
        "import pandas as pd\n",
        "#Creación de una serie apartir de un diccionario\n",
        "serie = pd.Series([2.5,5.0,3.5,4.0,3.0], index =[\"andres\",\"sharik\",\"jose\",\"camilo\",\"ian\"])\n",
        "print (serie)"
      ],
      "metadata": {
        "colab": {
          "base_uri": "https://localhost:8080/"
        },
        "id": "3I9Ap0xMh2-M",
        "outputId": "51524b02-fde5-4d76-be1e-38c0f898520d"
      },
      "execution_count": null,
      "outputs": [
        {
          "output_type": "stream",
          "name": "stdout",
          "text": [
            "andres    2.5\n",
            "sharik    5.0\n",
            "jose      3.5\n",
            "camilo    4.0\n",
            "ian       3.0\n",
            "dtype: float64\n"
          ]
        }
      ]
    },
    {
      "cell_type": "markdown",
      "source": [
        "1. Realizar el promedio de las calificaciones de los aprendices"
      ],
      "metadata": {
        "id": "T0o_VUdHjJK7"
      }
    },
    {
      "cell_type": "code",
      "source": [
        "import pandas as pd\n",
        "\n",
        "serie = pd.Series([2.5, 5.0, 3.5, 4.0, 3.0], index=[\"andres\", \"sharik\", \"jose\", \"camilo\", \"ian\"])\n",
        "\n",
        "promedio = serie.mean()\n",
        "print(\"El promedio de las calificaciones de los aprendices es:\", promedio)"
      ],
      "metadata": {
        "colab": {
          "base_uri": "https://localhost:8080/"
        },
        "id": "Y7rx8tsTjJwz",
        "outputId": "1866723a-44a3-4a35-bfce-e7b6cf3e1fe9"
      },
      "execution_count": null,
      "outputs": [
        {
          "output_type": "stream",
          "name": "stdout",
          "text": [
            "El promedio de las calificaciones de los aprendices es: 3.6\n"
          ]
        }
      ]
    },
    {
      "cell_type": "markdown",
      "source": [
        "2. Organizar los aprendices decendentemente teniendo en cuenta la calificacion"
      ],
      "metadata": {
        "id": "s4ubzNe2j7Ad"
      }
    },
    {
      "cell_type": "code",
      "source": [
        "import pandas as pd\n",
        "\n",
        "serie = pd.Series([2.5, 5.0, 3.5, 4.0, 3.0], index=[\"andres\", \"sharik\", \"jose\", \"camilo\", \"ian\"])\n",
        "\n",
        "serie_ordenada = serie.sort_values(ascending=False)\n",
        "print(\"Aprendices ordenados descendentemente por calificación:\")\n",
        "print(serie_ordenada)"
      ],
      "metadata": {
        "colab": {
          "base_uri": "https://localhost:8080/"
        },
        "id": "QhiXTVYnkqYA",
        "outputId": "4e52b7b9-872c-4f0c-806d-3b775d25a64f"
      },
      "execution_count": null,
      "outputs": [
        {
          "output_type": "stream",
          "name": "stdout",
          "text": [
            "Aprendices ordenados descendentemente por calificación:\n",
            "sharik    5.0\n",
            "camilo    4.0\n",
            "jose      3.5\n",
            "ian       3.0\n",
            "andres    2.5\n",
            "dtype: float64\n"
          ]
        }
      ]
    },
    {
      "cell_type": "markdown",
      "source": [
        "3.Extraer solamente los dos aprendices con menor calificación"
      ],
      "metadata": {
        "id": "_D2M1rLJlO9Q"
      }
    },
    {
      "cell_type": "code",
      "source": [
        "im"
      ],
      "metadata": {
        "id": "YSMsVLGplsA7"
      },
      "execution_count": null,
      "outputs": []
    },
    {
      "cell_type": "markdown",
      "source": [
        "4. contar los aprendices que la calificación fue mayor a 3.4"
      ],
      "metadata": {
        "id": "GUWgle4KlQqw"
      }
    },
    {
      "cell_type": "code",
      "source": [
        "import pandas as pd\n",
        "\n",
        "serie = pd.Series([2.5, 5.0, 3.5, 4.0, 3.0], index=[\"andres\", \"sharik\", \"jose\", \"camilo\", \"ian\"])\n",
        "\n",
        "calificaciones_mayores_3_4 = serie[serie > 3.4]\n",
        "cantidad_aprendices_mayores_3_4 = calificaciones_mayores_3_4.count()\n",
        "print(\"Cantidad de aprendices con calificación mayor a 3.4:\", cantidad_aprendices)"
      ],
      "metadata": {
        "colab": {
          "base_uri": "https://localhost:8080/",
          "height": 210
        },
        "id": "3Rx1xuAGlRRh",
        "outputId": "2b73d32d-1fcf-4354-ee4b-4d5523701e97"
      },
      "execution_count": null,
      "outputs": [
        {
          "output_type": "error",
          "ename": "NameError",
          "evalue": "ignored",
          "traceback": [
            "\u001b[0;31m---------------------------------------------------------------------------\u001b[0m",
            "\u001b[0;31mNameError\u001b[0m                                 Traceback (most recent call last)",
            "\u001b[0;32m<ipython-input-107-03cde421c663>\u001b[0m in \u001b[0;36m<cell line: 7>\u001b[0;34m()\u001b[0m\n\u001b[1;32m      5\u001b[0m \u001b[0mcalificaciones_mayores_3_4\u001b[0m \u001b[0;34m=\u001b[0m \u001b[0mserie\u001b[0m\u001b[0;34m[\u001b[0m\u001b[0mserie\u001b[0m \u001b[0;34m>\u001b[0m \u001b[0;36m3.4\u001b[0m\u001b[0;34m]\u001b[0m\u001b[0;34m\u001b[0m\u001b[0;34m\u001b[0m\u001b[0m\n\u001b[1;32m      6\u001b[0m \u001b[0mcantidad_aprendices_mayores_3_4\u001b[0m \u001b[0;34m=\u001b[0m \u001b[0mcalificaciones_mayores_3_4\u001b[0m\u001b[0;34m.\u001b[0m\u001b[0mcount\u001b[0m\u001b[0;34m(\u001b[0m\u001b[0;34m)\u001b[0m\u001b[0;34m\u001b[0m\u001b[0;34m\u001b[0m\u001b[0m\n\u001b[0;32m----> 7\u001b[0;31m \u001b[0mprint\u001b[0m\u001b[0;34m(\u001b[0m\u001b[0;34m\"Cantidad de aprendices con calificación mayor a 3.4:\"\u001b[0m\u001b[0;34m,\u001b[0m \u001b[0mcantidad_aprendices\u001b[0m\u001b[0;34m)\u001b[0m\u001b[0;34m\u001b[0m\u001b[0;34m\u001b[0m\u001b[0m\n\u001b[0m",
            "\u001b[0;31mNameError\u001b[0m: name 'cantidad_aprendices' is not defined"
          ]
        }
      ]
    },
    {
      "cell_type": "markdown",
      "source": [],
      "metadata": {
        "id": "P3gKfHxWlSJg"
      }
    },
    {
      "cell_type": "code",
      "source": [
        "import matplotlib.pyplot as plt\n",
        "#Capturar por teclado el numero de aprendices\n",
        "num_aprendices = int(input(\"Ingrese el número de aprendices que va a almacenar:\"))\n",
        "#Inicializacion de la serie y/o vector aprendices\n",
        "aprendices = []\n",
        "calificaciones = []\n",
        "\n",
        "for i in range (num_aprendices):\n",
        "  nombre = input (\"Dijite su nombre estimado aprendiz\")\n",
        "  calificacion = float(input (\"Digite su calificacion\"))\n",
        "  #Utilizaremos un metodo append para asignar el valor a la serie\n",
        "  aprendices.append(nombre)\n",
        "  calificaciones.append(calificacion)\n",
        "  i = i + 1\n",
        "\n",
        "#crear el grafico y/o histograma\n",
        "plt.bar(aprendices, calificaciones, color= 'skyblue')\n",
        "\n",
        "#Personalizar la histograma\n",
        "plt.xlabel(aprendices)\n",
        "plt.ylabel(calificaciones)\n",
        "plt.title(\"calificaciones de los aprendices ficha 2524603\")\n",
        "# Establecer los limites del plano cartesiano\n",
        "plt.ylim(0,5)\n",
        "# Mostrar el histograma\n",
        "plt.show()\n"
      ],
      "metadata": {
        "colab": {
          "base_uri": "https://localhost:8080/",
          "height": 593
        },
        "id": "LeZzC0FulSow",
        "outputId": "7568edd8-1208-4ec1-e348-03c02f73a27f"
      },
      "execution_count": null,
      "outputs": [
        {
          "name": "stdout",
          "output_type": "stream",
          "text": [
            "Ingrese el número de aprendices que va a almacenar:3\n",
            "Dijite su nombre estimado aprendizAndres\n",
            "Digite su calificacion3.0\n",
            "Dijite su nombre estimado aprendizFelipe\n",
            "Digite su calificacion3.7\n",
            "Dijite su nombre estimado aprendizSharil\n",
            "Digite su calificacion4.0\n"
          ]
        },
        {
          "output_type": "display_data",
          "data": {
            "text/plain": [
              "<Figure size 640x480 with 1 Axes>"
            ],
            "image/png": "[encoded data removed]"
          },
          "metadata": {}
        }
      ]
    },
    {
      "cell_type": "markdown",
      "source": [
        "1.realizar el promedio de las calificaciones de los aprendices"
      ],
      "metadata": {
        "id": "ShhZj5wSqzhW"
      }
    },
    {
      "cell_type": "code",
      "source": [
        "import pandas as pd\n",
        "import matplotlib.pyplot as plt\n",
        "\n",
        "# Capturar por teclado el número de aprendices\n",
        "num_aprendices = int(input(\"Ingrese el número de aprendices que va a almacenar:\"))\n",
        "\n",
        "# Inicialización de las listas para almacenar nombres y calificaciones\n",
        "aprendices = []\n",
        "calificaciones = []\n",
        "\n",
        "# Utilizamos un bucle for para capturar los nombres y calificaciones de los aprendices\n",
        "for i in range(num_aprendices):\n",
        "    nombre = input(\"Digite el nombre del aprendiz: \")\n",
        "    calificacion = float(input(\"Digite su calificación: \"))\n",
        "\n",
        "    # Utilizamos el método append para agregar el valor a las listas correspondientes\n",
        "    aprendices.append(nombre)\n",
        "    calificaciones.append(calificacion)\n",
        "\n",
        "# Crear una Serie de Pandas a partir de las listas\n",
        "serie = pd.Series(calificaciones, index=aprendices)\n",
        "\n",
        "# Calcular el promedio de las calificaciones\n",
        "promedio = serie.mean()\n",
        "\n",
        "# Mostrar el promedio de las calificaciones\n",
        "print(\"El promedio de las calificaciones de los aprendices es:\", promedio)\n",
        "\n",
        "# Crear un gráfico de barras\n",
        "plt.bar(aprendices, calificaciones, color='skyblue')\n",
        "\n",
        "# Personalizar el gráfico\n",
        "plt.xlabel('Aprendices')\n",
        "plt.ylabel('Calificaciones')\n",
        "plt.title('Calificaciones de los aprendices en la ficha 2524603')\n",
        "\n",
        "# Personalizar las etiquetas del eje X para que sean más legibles\n",
        "plt.xticks(rotation=45)\n",
        "\n",
        "# Mostrar el gráfico\n",
        "plt.show()\n",
        "\n"
      ],
      "metadata": {
        "colab": {
          "base_uri": "https://localhost:8080/",
          "height": 578
        },
        "id": "aaWOEWOZq3Ru",
        "outputId": "4b4ff5a7-9dc4-4c7b-e477-d70300265e27"
      },
      "execution_count": null,
      "outputs": [
        {
          "output_type": "stream",
          "name": "stdout",
          "text": [
            "Ingrese el número de aprendices que va a almacenar:2\n",
            "Digite el nombre del aprendiz: a\n",
            "Digite su calificación: 5.0\n",
            "Digite el nombre del aprendiz: f\n",
            "Digite su calificación: 3.0\n",
            "El promedio de las calificaciones de los aprendices es: 4.0\n"
          ]
        },
        {
          "output_type": "display_data",
          "data": {
            "text/plain": [
              "<Figure size 640x480 with 1 Axes>"
            ],
            "image/png": "[encoded data removed]"
          },
          "metadata": {}
        }
      ]
    },
    {
      "cell_type": "markdown",
      "source": [
        "2.Organizar los aprendices descendentemente teniendo en cuenta la calificación"
      ],
      "metadata": {
        "id": "EtX4IyO6ru8e"
      }
    },
    {
      "cell_type": "code",
      "source": [
        "import pandas as pd\n",
        "import matplotlib.pyplot as plt\n",
        "\n",
        "# Crear una Serie de Pandas con nombres de aprendices y calificaciones\n",
        "serie = pd.Series([2.5, 5.0, 3.5, 4.0, 3.0], index=[\"andres\", \"sharik\", \"jose\", \"camilo\", \"ian\"])\n",
        "\n",
        "# Organizar los aprendices descendentemente por calificación\n",
        "serie_ordenada = serie.sort_values(ascending=False)\n",
        "\n",
        "# Mostrar la Serie ordenada\n",
        "print(\"Aprendices ordenados descendentemente por calificación:\")\n",
        "print(serie_ordenada)\n",
        "\n",
        "# Crear un gráfico de barras con los aprendices y sus calificaciones ordenadas\n",
        "plt.bar(serie_ordenada.index, serie_ordenada.values, color='skyblue')\n",
        "\n",
        "# Personalizar el gráfico\n",
        "plt.xlabel('Aprendices')\n",
        "plt.ylabel('Calificaciones')\n",
        "plt.title('Calificaciones de los aprendices en orden descendente')\n",
        "\n",
        "# Personalizar las etiquetas del eje X para que sean más legibles\n",
        "plt.xticks(rotation=45)\n",
        "\n",
        "# Mostrar el gráfico\n",
        "plt.show()\n"
      ],
      "metadata": {
        "colab": {
          "base_uri": "https://localhost:8080/",
          "height": 622
        },
        "id": "gYrSHlqxrzn-",
        "outputId": "c252a523-1b71-499a-d46c-5e088d67fb36"
      },
      "execution_count": null,
      "outputs": [
        {
          "output_type": "stream",
          "name": "stdout",
          "text": [
            "Aprendices ordenados descendentemente por calificación:\n",
            "sharik    5.0\n",
            "camilo    4.0\n",
            "jose      3.5\n",
            "ian       3.0\n",
            "andres    2.5\n",
            "dtype: float64\n"
          ]
        },
        {
          "output_type": "display_data",
          "data": {
            "text/plain": [
              "<Figure size 640x480 with 1 Axes>"
            ],
            "image/png": "[encoded data removed]"
          },
          "metadata": {}
        }
      ]
    },
    {
      "cell_type": "markdown",
      "source": [
        "3. Extraer solamente los dos aprendices con menor calificación"
      ],
      "metadata": {
        "id": "bcXyQptgsRL_"
      }
    },
    {
      "cell_type": "code",
      "source": [
        "import pandas as pd\n",
        "import matplotlib.pyplot as plt\n",
        "\n",
        "# Crear una Serie de Pandas con nombres de aprendices y calificaciones\n",
        "serie = pd.Series([2.5, 5.0, 3.5, 4.0, 3.0], index=[\"andres\", \"sharik\", \"jose\", \"camilo\", \"ian\"])\n",
        "\n",
        "# Organizar los aprendices ascendentemente por calificación\n",
        "serie_ordenada = serie.sort_values(ascending=True)\n",
        "\n",
        "# Extraer los dos aprendices con las calificaciones más bajas\n",
        "dos_aprendices_menores_calificaciones = serie_ordenada.head(2)\n",
        "\n",
        "# Mostrar los dos aprendices con las calificaciones más bajas\n",
        "print(\"Dos aprendices con las calificaciones más bajas:\")\n",
        "print(dos_aprendices_menores_calificaciones)\n",
        "\n",
        "# Crear un gráfico de barras con los dos aprendices y sus calificaciones\n",
        "plt.bar(dos_aprendices_menores_calificaciones.index, dos_aprendices_menores_calificaciones.values, color='skyblue')\n",
        "\n",
        "# Personalizar el gráfico\n",
        "plt.xlabel('Aprendices')\n",
        "plt.ylabel('Calificaciones')\n",
        "plt.title('Calificaciones de los dos aprendices con las calificaciones más bajas')\n",
        "\n",
        "# Mostrar el gráfico\n",
        "plt.show()\n"
      ],
      "metadata": {
        "colab": {
          "base_uri": "https://localhost:8080/",
          "height": 541
        },
        "id": "9XjFY58QsXXf",
        "outputId": "5ef1007b-4e46-41ca-f0d9-8eff22f88db6"
      },
      "execution_count": null,
      "outputs": [
        {
          "output_type": "stream",
          "name": "stdout",
          "text": [
            "Dos aprendices con las calificaciones más bajas:\n",
            "andres    2.5\n",
            "ian       3.0\n",
            "dtype: float64\n"
          ]
        },
        {
          "output_type": "display_data",
          "data": {
            "text/plain": [
              "<Figure size 640x480 with 1 Axes>"
            ],
            "image/png": "[encoded data removed]"
          },
          "metadata": {}
        }
      ]
    },
    {
      "cell_type": "markdown",
      "source": [
        "4.contar los aprendices que la calificación fue mayor a 3.4"
      ],
      "metadata": {
        "id": "tLa-RM3XsyAX"
      }
    },
    {
      "cell_type": "code",
      "source": [
        "import pandas as pd\n",
        "import matplotlib.pyplot as plt\n",
        "\n",
        "# Crear una Serie de Pandas con nombres de aprendices y calificaciones\n",
        "serie = pd.Series([2.5, 5.0, 3.5, 4.0, 3.0], index=[\"andres\", \"sharik\", \"jose\", \"camilo\", \"ian\"])\n",
        "\n",
        "# Organizar los aprendices ascendentemente por calificación\n",
        "serie_ordenada = serie.sort_values(ascending=True)\n",
        "\n",
        "# Extraer los dos aprendices con las calificaciones más bajas\n",
        "dos_aprendices_menores_calificaciones = serie_ordenada.head(2)\n",
        "\n",
        "# Contar los aprendices con calificación mayor a 3.4\n",
        "aprendices_mayor_3_4 = serie[serie > 3.4]\n",
        "\n",
        "# Mostrar el número de aprendices con calificación mayor a 3.4\n",
        "num_aprendices_mayor_3_4 = aprendices_mayor_3_4.count()\n",
        "print(\"Número de aprendices con calificación mayor a 3.4:\", num_aprendices_mayor_3_4)\n",
        "\n",
        "# Crear un gráfico de barras con los aprendices y sus calificaciones\n",
        "plt.bar(serie.index, serie.values, color=['pink' if calificacion > 3.4 else 'skyblue' for calificacion in serie.values])\n",
        "\n",
        "# Personalizar el gráfico\n",
        "plt.xlabel('Aprendices')\n",
        "plt.ylabel('Calificaciones')\n",
        "plt.title('Calificaciones de los aprendices (Rosado si calificación > 3.4)')\n",
        "\n",
        "# Mostrar el gráfico\n",
        "plt.xticks(rotation=45)\n",
        "plt.show()\n"
      ],
      "metadata": {
        "colab": {
          "base_uri": "https://localhost:8080/",
          "height": 519
        },
        "id": "V4_iP8f6syoP",
        "outputId": "98cc43b8-b46b-4993-9ac7-6923f140ec56"
      },
      "execution_count": null,
      "outputs": [
        {
          "output_type": "stream",
          "name": "stdout",
          "text": [
            "Número de aprendices con calificación mayor a 3.4: 3\n"
          ]
        },
        {
          "output_type": "display_data",
          "data": {
            "text/plain": [
              "<Figure size 640x480 with 1 Axes>"
            ],
            "image/png": "[encoded data removed]"
          },
          "metadata": {}
        }
      ]
    },
    {
      "cell_type": "code",
      "source": [
        "# una serie es como un vector unidimencional para las calificaciones\n",
        "# El indice es el que permite perimetrar cada calificacion\n",
        "serie = pd.Series([2.5,5.0,3.5,4.0,3.0], index =[\"andres\",\"sharik\",\"jose\",\"camilo\",\"ian\"])\n",
        "# print(serie)\n",
        "\n",
        "\n",
        "#2 . Organizar los aprendices decendentemente teniendo en cuenta la calificacion\n",
        "serie[1,3,2,4,0]\n",
        "\n",
        "\n",
        "\n",
        "\n",
        "\n",
        "\n",
        "\n",
        "\n",
        "\n",
        "\n",
        "#consultar cual es el apreniz con mayor calificacion s,max():devuelve el mayor de los datos de la serie s.\n",
        "\n",
        "\n",
        "\n",
        "\n",
        "\n"
      ],
      "metadata": {
        "colab": {
          "base_uri": "https://localhost:8080/",
          "height": 406
        },
        "outputId": "2641718b-7954-43cd-9d31-8178183ecdd4",
        "id": "_b855XjwicpZ"
      },
      "execution_count": null,
      "outputs": [
        {
          "output_type": "error",
          "ename": "KeyError",
          "evalue": "ignored",
          "traceback": [
            "\u001b[0;31m---------------------------------------------------------------------------\u001b[0m",
            "\u001b[0;31mKeyError\u001b[0m                                  Traceback (most recent call last)",
            "\u001b[0;32m<ipython-input-89-2d5b15ad863b>\u001b[0m in \u001b[0;36m<cell line: 8>\u001b[0;34m()\u001b[0m\n\u001b[1;32m      6\u001b[0m \u001b[0;34m\u001b[0m\u001b[0m\n\u001b[1;32m      7\u001b[0m \u001b[0;31m#2 . Organizar los aprendices decendentemente teniendo en cuenta la calificacion\u001b[0m\u001b[0;34m\u001b[0m\u001b[0;34m\u001b[0m\u001b[0m\n\u001b[0;32m----> 8\u001b[0;31m \u001b[0mserie\u001b[0m\u001b[0;34m[\u001b[0m\u001b[0;36m1\u001b[0m\u001b[0;34m,\u001b[0m\u001b[0;36m3\u001b[0m\u001b[0;34m,\u001b[0m\u001b[0;36m2\u001b[0m\u001b[0;34m,\u001b[0m\u001b[0;36m4\u001b[0m\u001b[0;34m,\u001b[0m\u001b[0;36m0\u001b[0m\u001b[0;34m]\u001b[0m\u001b[0;34m\u001b[0m\u001b[0;34m\u001b[0m\u001b[0m\n\u001b[0m\u001b[1;32m      9\u001b[0m \u001b[0;34m\u001b[0m\u001b[0m\n\u001b[1;32m     10\u001b[0m \u001b[0;34m\u001b[0m\u001b[0m\n",
            "\u001b[0;32m/usr/local/lib/python3.10/dist-packages/pandas/core/series.py\u001b[0m in \u001b[0;36m__getitem__\u001b[0;34m(self, key)\u001b[0m\n\u001b[1;32m   1005\u001b[0m             \u001b[0;32mreturn\u001b[0m \u001b[0mself\u001b[0m\u001b[0;34m.\u001b[0m\u001b[0m_get_values\u001b[0m\u001b[0;34m(\u001b[0m\u001b[0mkey\u001b[0m\u001b[0;34m)\u001b[0m\u001b[0;34m\u001b[0m\u001b[0;34m\u001b[0m\u001b[0m\n\u001b[1;32m   1006\u001b[0m \u001b[0;34m\u001b[0m\u001b[0m\n\u001b[0;32m-> 1007\u001b[0;31m         \u001b[0;32mreturn\u001b[0m \u001b[0mself\u001b[0m\u001b[0;34m.\u001b[0m\u001b[0m_get_with\u001b[0m\u001b[0;34m(\u001b[0m\u001b[0mkey\u001b[0m\u001b[0;34m)\u001b[0m\u001b[0;34m\u001b[0m\u001b[0;34m\u001b[0m\u001b[0m\n\u001b[0m\u001b[1;32m   1008\u001b[0m \u001b[0;34m\u001b[0m\u001b[0m\n\u001b[1;32m   1009\u001b[0m     \u001b[0;32mdef\u001b[0m \u001b[0m_get_with\u001b[0m\u001b[0;34m(\u001b[0m\u001b[0mself\u001b[0m\u001b[0;34m,\u001b[0m \u001b[0mkey\u001b[0m\u001b[0;34m)\u001b[0m\u001b[0;34m:\u001b[0m\u001b[0;34m\u001b[0m\u001b[0;34m\u001b[0m\u001b[0m\n",
            "\u001b[0;32m/usr/local/lib/python3.10/dist-packages/pandas/core/series.py\u001b[0m in \u001b[0;36m_get_with\u001b[0;34m(self, key)\u001b[0m\n\u001b[1;32m   1020\u001b[0m             )\n\u001b[1;32m   1021\u001b[0m         \u001b[0;32melif\u001b[0m \u001b[0misinstance\u001b[0m\u001b[0;34m(\u001b[0m\u001b[0mkey\u001b[0m\u001b[0;34m,\u001b[0m \u001b[0mtuple\u001b[0m\u001b[0;34m)\u001b[0m\u001b[0;34m:\u001b[0m\u001b[0;34m\u001b[0m\u001b[0;34m\u001b[0m\u001b[0m\n\u001b[0;32m-> 1022\u001b[0;31m             \u001b[0;32mreturn\u001b[0m \u001b[0mself\u001b[0m\u001b[0;34m.\u001b[0m\u001b[0m_get_values_tuple\u001b[0m\u001b[0;34m(\u001b[0m\u001b[0mkey\u001b[0m\u001b[0;34m)\u001b[0m\u001b[0;34m\u001b[0m\u001b[0;34m\u001b[0m\u001b[0m\n\u001b[0m\u001b[1;32m   1023\u001b[0m \u001b[0;34m\u001b[0m\u001b[0m\n\u001b[1;32m   1024\u001b[0m         \u001b[0;32melif\u001b[0m \u001b[0;32mnot\u001b[0m \u001b[0mis_list_like\u001b[0m\u001b[0;34m(\u001b[0m\u001b[0mkey\u001b[0m\u001b[0;34m)\u001b[0m\u001b[0;34m:\u001b[0m\u001b[0;34m\u001b[0m\u001b[0;34m\u001b[0m\u001b[0m\n",
            "\u001b[0;32m/usr/local/lib/python3.10/dist-packages/pandas/core/series.py\u001b[0m in \u001b[0;36m_get_values_tuple\u001b[0;34m(self, key)\u001b[0m\n\u001b[1;32m   1058\u001b[0m \u001b[0;34m\u001b[0m\u001b[0m\n\u001b[1;32m   1059\u001b[0m         \u001b[0;32mif\u001b[0m \u001b[0;32mnot\u001b[0m \u001b[0misinstance\u001b[0m\u001b[0;34m(\u001b[0m\u001b[0mself\u001b[0m\u001b[0;34m.\u001b[0m\u001b[0mindex\u001b[0m\u001b[0;34m,\u001b[0m \u001b[0mMultiIndex\u001b[0m\u001b[0;34m)\u001b[0m\u001b[0;34m:\u001b[0m\u001b[0;34m\u001b[0m\u001b[0;34m\u001b[0m\u001b[0m\n\u001b[0;32m-> 1060\u001b[0;31m             \u001b[0;32mraise\u001b[0m \u001b[0mKeyError\u001b[0m\u001b[0;34m(\u001b[0m\u001b[0;34m\"key of type tuple not found and not a MultiIndex\"\u001b[0m\u001b[0;34m)\u001b[0m\u001b[0;34m\u001b[0m\u001b[0;34m\u001b[0m\u001b[0m\n\u001b[0m\u001b[1;32m   1061\u001b[0m \u001b[0;34m\u001b[0m\u001b[0m\n\u001b[1;32m   1062\u001b[0m         \u001b[0;31m# If key is contained, would have returned by now\u001b[0m\u001b[0;34m\u001b[0m\u001b[0;34m\u001b[0m\u001b[0m\n",
            "\u001b[0;31mKeyError\u001b[0m: 'key of type tuple not found and not a MultiIndex'"
          ]
        }
      ]
    },
    {
      "cell_type": "markdown",
      "source": [
        "#series y/o listas"
      ],
      "metadata": {
        "id": "_kIcwfCw-ixW"
      }
    },
    {
      "cell_type": "code",
      "source": [],
      "metadata": {
        "id": "nrBHBcmFIbvj"
      },
      "execution_count": null,
      "outputs": []
    },
    {
      "cell_type": "markdown",
      "source": [
        "***#RAMON***"
      ],
      "metadata": {
        "id": "8iXGQ2CPv4c2"
      }
    },
    {
      "cell_type": "code",
      "source": [],
      "metadata": {
        "id": "A9pJFJi4ELgK"
      },
      "execution_count": null,
      "outputs": []
    },
    {
      "cell_type": "code",
      "source": [
        "\n",
        "\n",
        "\n"
      ],
      "metadata": {
        "id": "S0ILlpqM_AMa"
      },
      "execution_count": null,
      "outputs": []
    },
    {
      "cell_type": "code",
      "source": [
        "# una serie es como un vector unidimencional para las calificaciones\n",
        "# El indice es el que permite perimetrar cada calificacion\n",
        "serie = pd.Series([2.5,5.0,3.5,4.0,3.0], index =[\"andres\",\"sharik\",\"jose\",\"camilo\",\"ian\"])\n",
        "# print(serie)\n",
        "\n",
        "\n",
        "#2 . Organizar los aprendices decendentemente teniendo en cuenta la calificacion\n",
        "serie[1,3,2,4,0]\n",
        "\n",
        "\n",
        "\n",
        "\n",
        "\n",
        "\n",
        "\n",
        "\n",
        "\n",
        "\n",
        "#consultar cual es el apreniz con mayor calificacion s,max():devuelve el mayor de los datos de la serie s.\n",
        "\n",
        "\n",
        "\n",
        "\n",
        "\n"
      ],
      "metadata": {
        "colab": {
          "base_uri": "https://localhost:8080/",
          "height": 406
        },
        "outputId": "2641718b-7954-43cd-9d31-8178183ecdd4",
        "id": "lcN6MF6LeYZj"
      },
      "execution_count": null,
      "outputs": [
        {
          "output_type": "error",
          "ename": "KeyError",
          "evalue": "ignored",
          "traceback": [
            "\u001b[0;31m---------------------------------------------------------------------------\u001b[0m",
            "\u001b[0;31mKeyError\u001b[0m                                  Traceback (most recent call last)",
            "\u001b[0;32m<ipython-input-89-2d5b15ad863b>\u001b[0m in \u001b[0;36m<cell line: 8>\u001b[0;34m()\u001b[0m\n\u001b[1;32m      6\u001b[0m \u001b[0;34m\u001b[0m\u001b[0m\n\u001b[1;32m      7\u001b[0m \u001b[0;31m#2 . Organizar los aprendices decendentemente teniendo en cuenta la calificacion\u001b[0m\u001b[0;34m\u001b[0m\u001b[0;34m\u001b[0m\u001b[0m\n\u001b[0;32m----> 8\u001b[0;31m \u001b[0mserie\u001b[0m\u001b[0;34m[\u001b[0m\u001b[0;36m1\u001b[0m\u001b[0;34m,\u001b[0m\u001b[0;36m3\u001b[0m\u001b[0;34m,\u001b[0m\u001b[0;36m2\u001b[0m\u001b[0;34m,\u001b[0m\u001b[0;36m4\u001b[0m\u001b[0;34m,\u001b[0m\u001b[0;36m0\u001b[0m\u001b[0;34m]\u001b[0m\u001b[0;34m\u001b[0m\u001b[0;34m\u001b[0m\u001b[0m\n\u001b[0m\u001b[1;32m      9\u001b[0m \u001b[0;34m\u001b[0m\u001b[0m\n\u001b[1;32m     10\u001b[0m \u001b[0;34m\u001b[0m\u001b[0m\n",
            "\u001b[0;32m/usr/local/lib/python3.10/dist-packages/pandas/core/series.py\u001b[0m in \u001b[0;36m__getitem__\u001b[0;34m(self, key)\u001b[0m\n\u001b[1;32m   1005\u001b[0m             \u001b[0;32mreturn\u001b[0m \u001b[0mself\u001b[0m\u001b[0;34m.\u001b[0m\u001b[0m_get_values\u001b[0m\u001b[0;34m(\u001b[0m\u001b[0mkey\u001b[0m\u001b[0;34m)\u001b[0m\u001b[0;34m\u001b[0m\u001b[0;34m\u001b[0m\u001b[0m\n\u001b[1;32m   1006\u001b[0m \u001b[0;34m\u001b[0m\u001b[0m\n\u001b[0;32m-> 1007\u001b[0;31m         \u001b[0;32mreturn\u001b[0m \u001b[0mself\u001b[0m\u001b[0;34m.\u001b[0m\u001b[0m_get_with\u001b[0m\u001b[0;34m(\u001b[0m\u001b[0mkey\u001b[0m\u001b[0;34m)\u001b[0m\u001b[0;34m\u001b[0m\u001b[0;34m\u001b[0m\u001b[0m\n\u001b[0m\u001b[1;32m   1008\u001b[0m \u001b[0;34m\u001b[0m\u001b[0m\n\u001b[1;32m   1009\u001b[0m     \u001b[0;32mdef\u001b[0m \u001b[0m_get_with\u001b[0m\u001b[0;34m(\u001b[0m\u001b[0mself\u001b[0m\u001b[0;34m,\u001b[0m \u001b[0mkey\u001b[0m\u001b[0;34m)\u001b[0m\u001b[0;34m:\u001b[0m\u001b[0;34m\u001b[0m\u001b[0;34m\u001b[0m\u001b[0m\n",
            "\u001b[0;32m/usr/local/lib/python3.10/dist-packages/pandas/core/series.py\u001b[0m in \u001b[0;36m_get_with\u001b[0;34m(self, key)\u001b[0m\n\u001b[1;32m   1020\u001b[0m             )\n\u001b[1;32m   1021\u001b[0m         \u001b[0;32melif\u001b[0m \u001b[0misinstance\u001b[0m\u001b[0;34m(\u001b[0m\u001b[0mkey\u001b[0m\u001b[0;34m,\u001b[0m \u001b[0mtuple\u001b[0m\u001b[0;34m)\u001b[0m\u001b[0;34m:\u001b[0m\u001b[0;34m\u001b[0m\u001b[0;34m\u001b[0m\u001b[0m\n\u001b[0;32m-> 1022\u001b[0;31m             \u001b[0;32mreturn\u001b[0m \u001b[0mself\u001b[0m\u001b[0;34m.\u001b[0m\u001b[0m_get_values_tuple\u001b[0m\u001b[0;34m(\u001b[0m\u001b[0mkey\u001b[0m\u001b[0;34m)\u001b[0m\u001b[0;34m\u001b[0m\u001b[0;34m\u001b[0m\u001b[0m\n\u001b[0m\u001b[1;32m   1023\u001b[0m \u001b[0;34m\u001b[0m\u001b[0m\n\u001b[1;32m   1024\u001b[0m         \u001b[0;32melif\u001b[0m \u001b[0;32mnot\u001b[0m \u001b[0mis_list_like\u001b[0m\u001b[0;34m(\u001b[0m\u001b[0mkey\u001b[0m\u001b[0;34m)\u001b[0m\u001b[0;34m:\u001b[0m\u001b[0;34m\u001b[0m\u001b[0;34m\u001b[0m\u001b[0m\n",
            "\u001b[0;32m/usr/local/lib/python3.10/dist-packages/pandas/core/series.py\u001b[0m in \u001b[0;36m_get_values_tuple\u001b[0;34m(self, key)\u001b[0m\n\u001b[1;32m   1058\u001b[0m \u001b[0;34m\u001b[0m\u001b[0m\n\u001b[1;32m   1059\u001b[0m         \u001b[0;32mif\u001b[0m \u001b[0;32mnot\u001b[0m \u001b[0misinstance\u001b[0m\u001b[0;34m(\u001b[0m\u001b[0mself\u001b[0m\u001b[0;34m.\u001b[0m\u001b[0mindex\u001b[0m\u001b[0;34m,\u001b[0m \u001b[0mMultiIndex\u001b[0m\u001b[0;34m)\u001b[0m\u001b[0;34m:\u001b[0m\u001b[0;34m\u001b[0m\u001b[0;34m\u001b[0m\u001b[0m\n\u001b[0;32m-> 1060\u001b[0;31m             \u001b[0;32mraise\u001b[0m \u001b[0mKeyError\u001b[0m\u001b[0;34m(\u001b[0m\u001b[0;34m\"key of type tuple not found and not a MultiIndex\"\u001b[0m\u001b[0;34m)\u001b[0m\u001b[0;34m\u001b[0m\u001b[0;34m\u001b[0m\u001b[0m\n\u001b[0m\u001b[1;32m   1061\u001b[0m \u001b[0;34m\u001b[0m\u001b[0m\n\u001b[1;32m   1062\u001b[0m         \u001b[0;31m# If key is contained, would have returned by now\u001b[0m\u001b[0;34m\u001b[0m\u001b[0;34m\u001b[0m\u001b[0m\n",
            "\u001b[0;31mKeyError\u001b[0m: 'key of type tuple not found and not a MultiIndex'"
          ]
        }
      ]
    },
    {
      "cell_type": "code",
      "source": [],
      "metadata": {
        "id": "uwhFskCLe-k9"
      },
      "execution_count": null,
      "outputs": []
    },
    {
      "cell_type": "markdown",
      "source": [
        "\n",
        "#3. Extraer solamentelos dos aprendices con menor calificacion"
      ],
      "metadata": {
        "id": "Oav6C50rZ403"
      }
    },
    {
      "cell_type": "markdown",
      "source": [],
      "metadata": {
        "id": "hgTlfFnbahjt"
      }
    },
    {
      "cell_type": "code",
      "source": [
        "import pandas as pd\n",
        "# una serie es como un vector unidimencional para las calificaciones\n",
        "# El indice es el que permite perimetrar cada calificacion\n",
        "serie = pd.Series([2.5,5.0,3.5,4.0,3.0], index =[\"andres\",\"sharik\",\"jose\",\"camilo\",\"ian\"])\n",
        "# print(serie)\n",
        "#2 . Organizar los aprendices decendentemente teniendo en cuenta la calificacion\n",
        "\n",
        "\n",
        "\n",
        "\n",
        "\n",
        "\n",
        "#consultar cual es el apreniz con mayor calificacion s,max():devuelve el mayor de los datos de la serie s.\n",
        "print(\"el promedio de la califiacion es :\" , serie.mean() )\n",
        "\n",
        "\n",
        "\n"
      ],
      "metadata": {
        "colab": {
          "base_uri": "https://localhost:8080/"
        },
        "id": "pJwRRmk7a8at",
        "outputId": "c4681c75-e38e-4585-cabc-f5b8249d8b06"
      },
      "execution_count": null,
      "outputs": [
        {
          "output_type": "stream",
          "name": "stdout",
          "text": [
            "el promedio de la califiacion es : 3.6\n"
          ]
        }
      ]
    },
    {
      "cell_type": "code",
      "source": [],
      "metadata": {
        "id": "jusVdjR4d6jU"
      },
      "execution_count": null,
      "outputs": []
    },
    {
      "cell_type": "code",
      "source": [
        "a = 8\n",
        "b = 7\n",
        "suma = a + b\n",
        "print(suma)"
      ],
      "metadata": {
        "colab": {
          "base_uri": "https://localhost:8080/"
        },
        "id": "mTO9citkx8f_",
        "outputId": "91ffde1e-a9f4-4562-bfe1-8916c85ed8f8"
      },
      "execution_count": null,
      "outputs": [
        {
          "output_type": "stream",
          "name": "stdout",
          "text": [
            "15\n"
          ]
        }
      ]
    },
    {
      "cell_type": "markdown",
      "source": [
        "1. Calcular el monto a pagar en una cabina de Internet si el costo por hora es de 1200 pesos."
      ],
      "metadata": {
        "id": "_6oeQSFNz77J"
      }
    },
    {
      "cell_type": "code",
      "source": [
        "costo_por_hora = 1200\n",
        "horas_usadas = int(input(\"Ingrese la cantidad de horas utilizadas: \"))\n",
        "monto_a_pagar = costo_por_hora * horas_usadas\n",
        "print(\"El monto a pagar es:\", monto_a_pagar, \"pesos\")"
      ],
      "metadata": {
        "colab": {
          "base_uri": "https://localhost:8080/"
        },
        "id": "xtu68ttUz_FK",
        "outputId": "817ce1ed-2604-4140-caa0-408d4a9816d1"
      },
      "execution_count": null,
      "outputs": [
        {
          "output_type": "stream",
          "name": "stdout",
          "text": [
            "Ingrese la cantidad de horas utilizadas: 1\n",
            "El monto a pagar es: 1200 pesos\n"
          ]
        }
      ]
    },
    {
      "cell_type": "markdown",
      "source": [
        "2. Si una flota viaja a una velocidad 45km/h al centro de la ciudad y se gasta 2 horas. ¿ A qué velocidad viaja si se gastan horas?"
      ],
      "metadata": {
        "id": "4r0T0bdk0N-5"
      }
    },
    {
      "cell_type": "code",
      "source": [
        "velocidad_actual = 45\n",
        "tiempo_actual = 2\n",
        "tiempo_deseado = 3\n",
        "velocidad_deseada = (velocidad_actual * tiempo_actual) / tiempo_deseado\n",
        "print(\"La velocidad deseada es:\", velocidad_deseada, \"km/h\")"
      ],
      "metadata": {
        "colab": {
          "base_uri": "https://localhost:8080/"
        },
        "id": "q1Ix5rzm0QjB",
        "outputId": "3c75a453-33be-48ab-99c0-47e595633a38"
      },
      "execution_count": null,
      "outputs": [
        {
          "output_type": "stream",
          "name": "stdout",
          "text": [
            "La velocidad deseada es: 30.0 km/h\n"
          ]
        }
      ]
    },
    {
      "cell_type": "markdown",
      "source": [
        "3. Calcular el nuevo salario de un empleado si obtuvo un incremento del 10 % sobre su salario actual y un\n",
        "descuento de 3, 5% por aportes obligatorios a parafiscales que corresponden al empleador en beneficio de sus trabajadores."
      ],
      "metadata": {
        "id": "DDtmyp-m0dy6"
      }
    },
    {
      "cell_type": "code",
      "source": [
        "salario_actual = float(input(\"Ingrese el salario actual del empleado: \"))\n",
        "incremento = 0.10 * salario_actual\n",
        "descuento = 0.035 * salario_actual\n",
        "nuevo_salario = salario_actual + incremento - descuento\n",
        "print(\"El nuevo salario del empleado es:\", nuevo_salario)"
      ],
      "metadata": {
        "colab": {
          "base_uri": "https://localhost:8080/"
        },
        "id": "ks5VnqbL0fAZ",
        "outputId": "d1ea01cd-2683-4067-f6e9-b68eb3535b4e"
      },
      "execution_count": null,
      "outputs": [
        {
          "output_type": "stream",
          "name": "stdout",
          "text": [
            "Ingrese el salario actual del empleado: 600000\n",
            "El nuevo salario del empleado es: 639000.0\n"
          ]
        }
      ]
    },
    {
      "cell_type": "markdown",
      "source": [
        "4. Hacer un programa que me capture por teclado un valor en pesos colombianos y me los convierta a dólares y euros"
      ],
      "metadata": {
        "id": "NViCRvw90xdp"
      }
    },
    {
      "cell_type": "code",
      "source": [
        "pesos_colombianos = float(input(\"Ingrese la cantidad en pesos colombianos: \"))\n",
        "dolares = pesos_colombianos / 3800\n",
        "euros = pesos_colombianos / 4500\n",
        "print(\"Equivalente en dólares:\", dolares)\n",
        "print(\"Equivalente en euros:\", euros)"
      ],
      "metadata": {
        "colab": {
          "base_uri": "https://localhost:8080/"
        },
        "id": "blKY1I1O0ydp",
        "outputId": "25f81c82-8ace-4494-f38c-a79e23baccbe"
      },
      "execution_count": null,
      "outputs": [
        {
          "output_type": "stream",
          "name": "stdout",
          "text": [
            "Ingrese la cantidad en pesos colombianos: 50000\n",
            "Equivalente en dólares: 13.157894736842104\n",
            "Equivalente en euros: 11.11111111111111\n"
          ]
        }
      ]
    },
    {
      "cell_type": "markdown",
      "source": [
        "5.Si un usuario desea invertir sus ganancias en un banco y desea saber cuánto dinero ganará después de un año si el banco paga a razón de 1,5% mensual."
      ],
      "metadata": {
        "id": "3dEe54LX0_gC"
      }
    },
    {
      "cell_type": "code",
      "source": [
        "inversion_inicial = float(input(\"Deposite la inversión inicial en el banco: \"))\n",
        "tasa_mensual = 0.015\n",
        "meses = 12\n",
        "monto_final = inversion_inicial * (1 + tasa_mensual) ** meses\n",
        "print(\"Después de un año, el monto final sera de:\", monto_final)"
      ],
      "metadata": {
        "id": "s1D4IHFc1AbZ",
        "colab": {
          "base_uri": "https://localhost:8080/"
        },
        "outputId": "ef6e7db5-93d4-4bed-e94e-ccfe20d23fb7"
      },
      "execution_count": null,
      "outputs": [
        {
          "output_type": "stream",
          "name": "stdout",
          "text": [
            "Deposite la inversión inicial en el banco: 70.000\n",
            "Después de un año, el monto final sera de: 83.69327200230738\n"
          ]
        }
      ]
    }
  ]
}